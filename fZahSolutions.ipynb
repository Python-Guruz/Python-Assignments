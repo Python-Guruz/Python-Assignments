{
 "cells": [
  {
   "cell_type": "code",
   "execution_count": 243,
   "id": "ba460eec",
   "metadata": {},
   "outputs": [
    {
     "data": {
      "text/plain": [
       "1.25"
      ]
     },
     "execution_count": 243,
     "metadata": {},
     "output_type": "execute_result"
    }
   ],
   "source": [
    "#assignment 1 solutions.\n",
    "\n",
    "#NUMBERS\n",
    "#Write an equation that uses multiplication, division, an exponent, addition, and subtraction that is equal to 100.25.\n",
    "#Hint: This is just to test your memory of the basic arithmetic commands, work backwards from 100.25.\n",
    "import math\n",
    "x = 100.25 - 0.25 #returns 100.0\n",
    "y = math.sqrt(x)\n",
    "z = y + 40\n",
    "a = z**3\n",
    "b = a / 100000\n",
    "b"
   ]
  },
  {
   "cell_type": "code",
   "execution_count": 18,
   "id": "eccdc4b0",
   "metadata": {},
   "outputs": [
    {
     "name": "stdout",
     "output_type": "stream",
     "text": [
      "8.5\n"
     ]
    },
    {
     "data": {
      "text/plain": [
       "float"
      ]
     },
     "execution_count": 18,
     "metadata": {},
     "output_type": "execute_result"
    }
   ],
   "source": [
    "#What is the type of the result of the expression 3 + 1.5 + 4?\n",
    "\n",
    "x = (3 + 1.5 + 4)\n",
    "\n",
    "print(x)\n",
    "type(x)"
   ]
  },
  {
   "cell_type": "code",
   "execution_count": 22,
   "id": "48cf8303",
   "metadata": {},
   "outputs": [
    {
     "name": "stdout",
     "output_type": "stream",
     "text": [
      "5.0\n",
      "enter number you wish to square\n",
      "2\n",
      "4\n"
     ]
    }
   ],
   "source": [
    "#What would you use to find a number’s square root, as well as its square?\n",
    "\n",
    "# finding square root\n",
    "import math\n",
    "\n",
    "x = 25\n",
    "\n",
    "y = math.sqrt(x)\n",
    "print(y)\n",
    "\n",
    "#finding square\n",
    "\n",
    "print(\"enter number you wish to square\")\n",
    "num = input()\n",
    "\n",
    "sq = pow(int(num), 2)\n",
    "\n",
    "print(sq)"
   ]
  },
  {
   "cell_type": "code",
   "execution_count": 222,
   "id": "ac92a603",
   "metadata": {},
   "outputs": [
    {
     "data": {
      "text/plain": [
       "'o'"
      ]
     },
     "execution_count": 222,
     "metadata": {},
     "output_type": "execute_result"
    }
   ],
   "source": [
    "#STRINGS\n",
    "#Given the string 'hello' give an index command that returns 'e'\n",
    "s = \"hello\"\n",
    "s[1]\n",
    "\n",
    "# #Reverse the string 'hello' using slicing:\n",
    "# sorted(s, reverse=True)\n",
    "s = \"hello\"[::-1]\n",
    "print(s)\n",
    "\n",
    "\n",
    "#Given the string hello, give two methods of producing the letter 'o' using indexing.\n",
    "s[4]\n",
    "s[-1]"
   ]
  },
  {
   "cell_type": "code",
   "execution_count": 138,
   "id": "128d59dc",
   "metadata": {},
   "outputs": [
    {
     "data": {
      "text/plain": [
       "'goodbye'"
      ]
     },
     "execution_count": 138,
     "metadata": {},
     "output_type": "execute_result"
    }
   ],
   "source": [
    "#LISTS\n",
    "#Build this list [0,0,0] two separate ways.\n",
    "\n",
    "\n",
    "#Reassign 'hello' in this nested list to say 'goodbye' instead:\n",
    "list3 = [1,2,[3,4,'hello']]\n",
    "\n",
    "# rep = [hello.replace('hello', 'goodbye') for hello in list3]\n",
    "# rep = list3[2][2]\n",
    "# rep = [sub.replace(\"hello\", \"goodbye\") for sub in list3]\n",
    "\n",
    "list3[2][2].replace(\"hello\", \"goodbye\")\n",
    "\n",
    "\n",
    "#Sort the list below:\n",
    "list4 = [5,3,4,6,1]\n",
    "sorted(list4, reverse=False)"
   ]
  },
  {
   "cell_type": "code",
   "execution_count": 219,
   "id": "3193e2d5",
   "metadata": {},
   "outputs": [
    {
     "data": {
      "text/plain": [
       "'hello'"
      ]
     },
     "execution_count": 219,
     "metadata": {},
     "output_type": "execute_result"
    }
   ],
   "source": [
    "#DICTIONARIES\n",
    "#Using keys and indexing, grab the 'hello' from the following dictionaries: \n",
    "# d = {'simple_key':'hello'} \n",
    " \n",
    "d[\"simple_key\"] #returns hello\n",
    "\n",
    "\n",
    "# d = {'k1':{'k2':'hello'}}\n",
    "\n",
    "d[\"k1\"][\"k2\"] #returns hello\n",
    "\n",
    "\n",
    "# d = {'k1':[{'nest_key':['this is deep',['hello']]}]}\n",
    "\n",
    "x = d[\"k1\"]\n",
    "y = x[0]\n",
    "z = y[\"nest_key\"]\n",
    "results = z[1][0]\n",
    "results\n",
    "\n",
    "d = {'k1':[1,2,{'k2':['this is tricky',{'tough':[1,2,['hello']]}]}]}\n",
    "# r1 = d[\"k1\"] #returns [1, 2, {'k2': ['this is tricky', {'tough': [1, 2, ['hello']]}]}]\n",
    "# r2 = r1[2]\n",
    "# r3 = r2[\"k2\"]\n",
    "# r4 = r3[1]\n",
    "# r5 = r4[\"tough\"]\n",
    "# results = r5[2][0]\n",
    "# results\n",
    "x = (((((d[\"k1\"])[2])[\"k2\"])[1])[\"tough\"])[2][0]\n",
    "x\n",
    "\n",
    "#Can you sort a dictionary? Why or why not?"
   ]
  },
  {
   "cell_type": "code",
   "execution_count": 209,
   "id": "ceb2ce10",
   "metadata": {},
   "outputs": [
    {
     "data": {
      "text/plain": [
       "(2, 4, 'yoo', [])"
      ]
     },
     "execution_count": 209,
     "metadata": {},
     "output_type": "execute_result"
    }
   ],
   "source": [
    "#TUPLES\n",
    "#What is the major difference between tuples and lists?\n",
    "A LIST IS MUTABLE WHILE A TUPLE IS NOT.\n",
    "\n",
    "\n",
    "\n",
    "#How do you create a tuple?\n",
    "testTuple = (2, 4, \"yoo\", [])\n",
    "testTuple\n"
   ]
  },
  {
   "cell_type": "code",
   "execution_count": 220,
   "id": "787c852b",
   "metadata": {},
   "outputs": [
    {
     "data": {
      "text/plain": [
       "{1, 2, 3, 4, 11, 22, 33}"
      ]
     },
     "execution_count": 220,
     "metadata": {},
     "output_type": "execute_result"
    }
   ],
   "source": [
    "#SETS\n",
    "#What is unique about a set?\n",
    "#it must have unique values - no repetition and cannot be mutated\n",
    "\n",
    "\n",
    "#Use a set to find the unique values of the list below:\n",
    "list5 = [1,2,2,33,4,4,11,22,3,3,2]\n",
    "x = set(list5)\n",
    "x"
   ]
  },
  {
   "cell_type": "code",
   "execution_count": 74,
   "id": "0351f733",
   "metadata": {},
   "outputs": [
    {
     "data": {
      "text/plain": [
       "False"
      ]
     },
     "execution_count": 74,
     "metadata": {},
     "output_type": "execute_result"
    }
   ],
   "source": [
    "#BOOLEANS\n",
    "#What will be the resulting Boolean of the following pieces of code\n",
    "2 > 3\n",
    "#false\n",
    "\n",
    "3 <= 2\n",
    "#false\n",
    "\n",
    "3 == 2.0\n",
    "#false\n",
    "\n",
    "3.0 == 3\n",
    "#true\n",
    "\n",
    "4**0.5 != 2\n",
    "#false\n",
    "\n",
    "#What is the boolean output of the cell block below?\n",
    "# two nested lists\n",
    "# l_one = [1,2,[3,4]]\n",
    "# l_two = [1,2,{'k1':4}]\n",
    " \n",
    "# # True or False?\n",
    "# l_one[2][0] >= l_two[2]['k1']\n",
    "#false"
   ]
  }
 ],
 "metadata": {
  "kernelspec": {
   "display_name": "Python 3",
   "language": "python",
   "name": "python3"
  },
  "language_info": {
   "codemirror_mode": {
    "name": "ipython",
    "version": 3
   },
   "file_extension": ".py",
   "mimetype": "text/x-python",
   "name": "python",
   "nbconvert_exporter": "python",
   "pygments_lexer": "ipython3",
   "version": "3.8.8"
  }
 },
 "nbformat": 4,
 "nbformat_minor": 5
}
